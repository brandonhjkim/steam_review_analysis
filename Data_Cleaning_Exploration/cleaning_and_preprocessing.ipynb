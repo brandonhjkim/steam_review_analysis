{
 "cells": [
  {
   "cell_type": "code",
   "execution_count": 1,
   "metadata": {},
   "outputs": [],
   "source": [
    "import polars as pl "
   ]
  },
  {
   "cell_type": "code",
   "execution_count": 11,
   "metadata": {},
   "outputs": [],
   "source": [
    "tidbit = pl.read_csv('all_reviews.csv', n_rows = 100)"
   ]
  },
  {
   "cell_type": "code",
   "execution_count": 13,
   "metadata": {},
   "outputs": [
    {
     "data": {
      "text/html": [
       "<div><style>\n",
       ".dataframe > thead > tr,\n",
       ".dataframe > tbody > tr {\n",
       "  text-align: right;\n",
       "  white-space: pre-wrap;\n",
       "}\n",
       "</style>\n",
       "<small>shape: (5, 24)</small><table border=\"1\" class=\"dataframe\"><thead><tr><th>recommendationid</th><th>appid</th><th>game</th><th>author_steamid</th><th>author_num_games_owned</th><th>author_num_reviews</th><th>author_playtime_forever</th><th>author_playtime_last_two_weeks</th><th>author_playtime_at_review</th><th>author_last_played</th><th>language</th><th>review</th><th>timestamp_created</th><th>timestamp_updated</th><th>voted_up</th><th>votes_up</th><th>votes_funny</th><th>weighted_vote_score</th><th>comment_count</th><th>steam_purchase</th><th>received_for_free</th><th>written_during_early_access</th><th>hidden_in_steam_china</th><th>steam_china_location</th></tr><tr><td>i64</td><td>i64</td><td>str</td><td>i64</td><td>i64</td><td>i64</td><td>i64</td><td>i64</td><td>i64</td><td>i64</td><td>str</td><td>str</td><td>i64</td><td>i64</td><td>i64</td><td>i64</td><td>i64</td><td>f64</td><td>i64</td><td>i64</td><td>i64</td><td>i64</td><td>i64</td><td>str</td></tr></thead><tbody><tr><td>148919893</td><td>10</td><td>&quot;Counter-Strike&quot;</td><td>76561199036724879</td><td>0</td><td>3</td><td>197</td><td>197</td><td>197</td><td>1698336369</td><td>&quot;russian&quot;</td><td>&quot;старость&quot;</td><td>1698336397</td><td>1698336397</td><td>1</td><td>0</td><td>0</td><td>0.0</td><td>0</td><td>1</td><td>0</td><td>0</td><td>1</td><td>&quot;&quot;</td></tr><tr><td>148919350</td><td>10</td><td>&quot;Counter-Strike&quot;</td><td>76561198826729322</td><td>0</td><td>21</td><td>441</td><td>37</td><td>441</td><td>1698335809</td><td>&quot;russian&quot;</td><td>&quot;Лучше кс 2&quot;</td><td>1698335821</td><td>1698335821</td><td>1</td><td>0</td><td>0</td><td>0.0</td><td>0</td><td>1</td><td>0</td><td>0</td><td>1</td><td>&quot;&quot;</td></tr><tr><td>148913051</td><td>10</td><td>&quot;Counter-Strike&quot;</td><td>76561199101237625</td><td>7</td><td>1</td><td>1440</td><td>1440</td><td>1313</td><td>1698338635</td><td>&quot;turkish&quot;</td><td>&quot;çoh iyi ama pahalı&quot;</td><td>1698329862</td><td>1698329862</td><td>1</td><td>0</td><td>0</td><td>0.0</td><td>0</td><td>1</td><td>0</td><td>0</td><td>1</td><td>&quot;&quot;</td></tr><tr><td>148912714</td><td>10</td><td>&quot;Counter-Strike&quot;</td><td>76561198347582422</td><td>11</td><td>4</td><td>1636</td><td>83</td><td>1612</td><td>1698341834</td><td>&quot;russian&quot;</td><td>&quot;топ&quot;</td><td>1698329555</td><td>1698329555</td><td>1</td><td>0</td><td>0</td><td>0.0</td><td>0</td><td>1</td><td>0</td><td>0</td><td>1</td><td>&quot;&quot;</td></tr><tr><td>148912575</td><td>10</td><td>&quot;Counter-Strike&quot;</td><td>76561198363716821</td><td>0</td><td>2</td><td>197</td><td>41</td><td>197</td><td>1698329401</td><td>&quot;english&quot;</td><td>&quot;GOAT Game !!&quot;</td><td>1698329419</td><td>1698329419</td><td>1</td><td>0</td><td>0</td><td>0.0</td><td>0</td><td>1</td><td>0</td><td>0</td><td>1</td><td>&quot;&quot;</td></tr></tbody></table></div>"
      ],
      "text/plain": [
       "shape: (5, 24)\n",
       "┌────────────┬───────┬────────────┬────────────┬───┬───────────┬───────────┬───────────┬───────────┐\n",
       "│ recommenda ┆ appid ┆ game       ┆ author_ste ┆ … ┆ received_ ┆ written_d ┆ hidden_in ┆ steam_chi │\n",
       "│ tionid     ┆ ---   ┆ ---        ┆ amid       ┆   ┆ for_free  ┆ uring_ear ┆ _steam_ch ┆ na_locati │\n",
       "│ ---        ┆ i64   ┆ str        ┆ ---        ┆   ┆ ---       ┆ ly_access ┆ ina       ┆ on        │\n",
       "│ i64        ┆       ┆            ┆ i64        ┆   ┆ i64       ┆ ---       ┆ ---       ┆ ---       │\n",
       "│            ┆       ┆            ┆            ┆   ┆           ┆ i64       ┆ i64       ┆ str       │\n",
       "╞════════════╪═══════╪════════════╪════════════╪═══╪═══════════╪═══════════╪═══════════╪═══════════╡\n",
       "│ 148919893  ┆ 10    ┆ Counter-St ┆ 7656119903 ┆ … ┆ 0         ┆ 0         ┆ 1         ┆           │\n",
       "│            ┆       ┆ rike       ┆ 6724879    ┆   ┆           ┆           ┆           ┆           │\n",
       "│ 148919350  ┆ 10    ┆ Counter-St ┆ 7656119882 ┆ … ┆ 0         ┆ 0         ┆ 1         ┆           │\n",
       "│            ┆       ┆ rike       ┆ 6729322    ┆   ┆           ┆           ┆           ┆           │\n",
       "│ 148913051  ┆ 10    ┆ Counter-St ┆ 7656119910 ┆ … ┆ 0         ┆ 0         ┆ 1         ┆           │\n",
       "│            ┆       ┆ rike       ┆ 1237625    ┆   ┆           ┆           ┆           ┆           │\n",
       "│ 148912714  ┆ 10    ┆ Counter-St ┆ 7656119834 ┆ … ┆ 0         ┆ 0         ┆ 1         ┆           │\n",
       "│            ┆       ┆ rike       ┆ 7582422    ┆   ┆           ┆           ┆           ┆           │\n",
       "│ 148912575  ┆ 10    ┆ Counter-St ┆ 7656119836 ┆ … ┆ 0         ┆ 0         ┆ 1         ┆           │\n",
       "│            ┆       ┆ rike       ┆ 3716821    ┆   ┆           ┆           ┆           ┆           │\n",
       "└────────────┴───────┴────────────┴────────────┴───┴───────────┴───────────┴───────────┴───────────┘"
      ]
     },
     "execution_count": 13,
     "metadata": {},
     "output_type": "execute_result"
    }
   ],
   "source": [
    "tidbit.head()"
   ]
  },
  {
   "cell_type": "code",
   "execution_count": 14,
   "metadata": {},
   "outputs": [],
   "source": [
    "lf = pl.scan_csv('all_reviews.csv')"
   ]
  },
  {
   "cell_type": "code",
   "execution_count": null,
   "metadata": {},
   "outputs": [],
   "source": [
    "# processing in batches \n",
    "transformed_lf = (\n",
    "    lf\n",
    "    .filter(pl.col('language') == 'english')\n",
    "    .drop(['appid', 'hidden_in_steam_china', 'steam_china_location', 'timestamp_updated', 'received_for_free', 'written_during_early_access', 'language', 'author_last_played', 'recommendationid'])\n",
    "    .with_columns((pl.col('timestamp_created')*1000).cast(pl.Datetime('ms')))\n",
    ")"
   ]
  },
  {
   "cell_type": "code",
   "execution_count": 16,
   "metadata": {},
   "outputs": [],
   "source": [
    "cleaned_df = transformed_lf.collect(streaming=True)"
   ]
  },
  {
   "cell_type": "code",
   "execution_count": null,
   "metadata": {},
   "outputs": [],
   "source": [
    "# getting rid of any characters that aren't english. could be bad for any sentiment analysis packages \n",
    "cleaned_df = cleaned_df.filter(cleaned_df['review'].str.contains(r\"^[\\x00-\\x7F]+$\", literal=False))"
   ]
  },
  {
   "cell_type": "code",
   "execution_count": 17,
   "metadata": {},
   "outputs": [
    {
     "data": {
      "text/html": [
       "<div><style>\n",
       ".dataframe > thead > tr,\n",
       ".dataframe > tbody > tr {\n",
       "  text-align: right;\n",
       "  white-space: pre-wrap;\n",
       "}\n",
       "</style>\n",
       "<small>shape: (51_544_612, 15)</small><table border=\"1\" class=\"dataframe\"><thead><tr><th>game</th><th>author_steamid</th><th>author_num_games_owned</th><th>author_num_reviews</th><th>author_playtime_forever</th><th>author_playtime_last_two_weeks</th><th>author_playtime_at_review</th><th>review</th><th>timestamp_created</th><th>voted_up</th><th>votes_up</th><th>votes_funny</th><th>weighted_vote_score</th><th>comment_count</th><th>steam_purchase</th></tr><tr><td>str</td><td>i64</td><td>i64</td><td>i64</td><td>i64</td><td>i64</td><td>i64</td><td>str</td><td>datetime[ms]</td><td>i64</td><td>i64</td><td>i64</td><td>f64</td><td>i64</td><td>i64</td></tr></thead><tbody><tr><td>&quot;Counter-Strike&quot;</td><td>76561198363716821</td><td>0</td><td>2</td><td>197</td><td>41</td><td>197</td><td>&quot;GOAT Game !!&quot;</td><td>2023-10-26 14:10:19</td><td>1</td><td>0</td><td>0</td><td>0.0</td><td>0</td><td>1</td></tr><tr><td>&quot;Counter-Strike&quot;</td><td>76561198134752176</td><td>69</td><td>1</td><td>12107</td><td>0</td><td>12107</td><td>&quot;First crush. Always in my hear…</td><td>2023-10-26 07:41:36</td><td>1</td><td>0</td><td>0</td><td>0.0</td><td>0</td><td>0</td></tr><tr><td>&quot;Counter-Strike&quot;</td><td>76561197985437504</td><td>0</td><td>5</td><td>42519</td><td>3</td><td>42515</td><td>&quot;best version of cs ever, histo…</td><td>2023-10-26 07:32:49</td><td>1</td><td>0</td><td>0</td><td>0.0</td><td>0</td><td>0</td></tr><tr><td>&quot;Counter-Strike&quot;</td><td>76561199015747395</td><td>71</td><td>34</td><td>30</td><td>0</td><td>30</td><td>&quot;a game everyone needs, but not…</td><td>2023-10-25 18:11:55</td><td>1</td><td>0</td><td>0</td><td>0.0</td><td>0</td><td>1</td></tr><tr><td>&quot;Counter-Strike&quot;</td><td>76561199479067349</td><td>5</td><td>6</td><td>209</td><td>200</td><td>209</td><td>&quot;old but gold&quot;</td><td>2023-10-25 17:03:14</td><td>1</td><td>1</td><td>0</td><td>0.52381</td><td>0</td><td>1</td></tr><tr><td>&hellip;</td><td>&hellip;</td><td>&hellip;</td><td>&hellip;</td><td>&hellip;</td><td>&hellip;</td><td>&hellip;</td><td>&hellip;</td><td>&hellip;</td><td>&hellip;</td><td>&hellip;</td><td>&hellip;</td><td>&hellip;</td><td>&hellip;</td><td>&hellip;</td></tr><tr><td>&quot;Siluman Fantasy&quot;</td><td>76561198010914579</td><td>3130</td><td>270</td><td>30</td><td>0</td><td>30</td><td>&quot;Let&#x27;s start off with, I would …</td><td>2019-04-21 12:24:21</td><td>0</td><td>77</td><td>1</td><td>0.810085</td><td>0</td><td>0</td></tr><tr><td>&quot;Siluman Fantasy&quot;</td><td>76561197988663774</td><td>3463</td><td>347</td><td>645</td><td>0</td><td>645</td><td>&quot;(Disclaimer: I know one of the…</td><td>2019-04-19 13:52:31</td><td>1</td><td>26</td><td>1</td><td>0.655006</td><td>0</td><td>0</td></tr><tr><td>&quot;Monster Girl Sketch Vol.01&quot;</td><td>76561197988663774</td><td>3463</td><td>347</td><td>0</td><td>0</td><td>0</td><td>&quot;Sketchbook, not actually R18. …</td><td>2019-04-19 13:54:13</td><td>1</td><td>3</td><td>0</td><td>0.542915</td><td>0</td><td>0</td></tr><tr><td>&quot;Monster Girl Sketch Vol.02A&quot;</td><td>76561197988663774</td><td>3463</td><td>347</td><td>0</td><td>0</td><td>0</td><td>&quot;R18 sketchbook that&#x27;s only loo…</td><td>2019-04-19 13:54:29</td><td>0</td><td>6</td><td>0</td><td>0.599498</td><td>0</td><td>0</td></tr><tr><td>&quot;Monster Girl Sketch Vol.02B&quot;</td><td>76561197988663774</td><td>3463</td><td>347</td><td>0</td><td>0</td><td>0</td><td>&quot;R18 sketchbook that&#x27;s only loo…</td><td>2019-04-19 13:54:41</td><td>0</td><td>4</td><td>0</td><td>0.562894</td><td>0</td><td>0</td></tr></tbody></table></div>"
      ],
      "text/plain": [
       "shape: (51_544_612, 15)\n",
       "┌───────────┬───────────┬───────────┬───────────┬───┬───────────┬───────────┬───────────┬──────────┐\n",
       "│ game      ┆ author_st ┆ author_nu ┆ author_nu ┆ … ┆ votes_fun ┆ weighted_ ┆ comment_c ┆ steam_pu │\n",
       "│ ---       ┆ eamid     ┆ m_games_o ┆ m_reviews ┆   ┆ ny        ┆ vote_scor ┆ ount      ┆ rchase   │\n",
       "│ str       ┆ ---       ┆ wned      ┆ ---       ┆   ┆ ---       ┆ e         ┆ ---       ┆ ---      │\n",
       "│           ┆ i64       ┆ ---       ┆ i64       ┆   ┆ i64       ┆ ---       ┆ i64       ┆ i64      │\n",
       "│           ┆           ┆ i64       ┆           ┆   ┆           ┆ f64       ┆           ┆          │\n",
       "╞═══════════╪═══════════╪═══════════╪═══════════╪═══╪═══════════╪═══════════╪═══════════╪══════════╡\n",
       "│ Counter-S ┆ 765611983 ┆ 0         ┆ 2         ┆ … ┆ 0         ┆ 0.0       ┆ 0         ┆ 1        │\n",
       "│ trike     ┆ 63716821  ┆           ┆           ┆   ┆           ┆           ┆           ┆          │\n",
       "│ Counter-S ┆ 765611981 ┆ 69        ┆ 1         ┆ … ┆ 0         ┆ 0.0       ┆ 0         ┆ 0        │\n",
       "│ trike     ┆ 34752176  ┆           ┆           ┆   ┆           ┆           ┆           ┆          │\n",
       "│ Counter-S ┆ 765611979 ┆ 0         ┆ 5         ┆ … ┆ 0         ┆ 0.0       ┆ 0         ┆ 0        │\n",
       "│ trike     ┆ 85437504  ┆           ┆           ┆   ┆           ┆           ┆           ┆          │\n",
       "│ Counter-S ┆ 765611990 ┆ 71        ┆ 34        ┆ … ┆ 0         ┆ 0.0       ┆ 0         ┆ 1        │\n",
       "│ trike     ┆ 15747395  ┆           ┆           ┆   ┆           ┆           ┆           ┆          │\n",
       "│ Counter-S ┆ 765611994 ┆ 5         ┆ 6         ┆ … ┆ 0         ┆ 0.52381   ┆ 0         ┆ 1        │\n",
       "│ trike     ┆ 79067349  ┆           ┆           ┆   ┆           ┆           ┆           ┆          │\n",
       "│ …         ┆ …         ┆ …         ┆ …         ┆ … ┆ …         ┆ …         ┆ …         ┆ …        │\n",
       "│ Siluman   ┆ 765611980 ┆ 3130      ┆ 270       ┆ … ┆ 1         ┆ 0.810085  ┆ 0         ┆ 0        │\n",
       "│ Fantasy   ┆ 10914579  ┆           ┆           ┆   ┆           ┆           ┆           ┆          │\n",
       "│ Siluman   ┆ 765611979 ┆ 3463      ┆ 347       ┆ … ┆ 1         ┆ 0.655006  ┆ 0         ┆ 0        │\n",
       "│ Fantasy   ┆ 88663774  ┆           ┆           ┆   ┆           ┆           ┆           ┆          │\n",
       "│ Monster   ┆ 765611979 ┆ 3463      ┆ 347       ┆ … ┆ 0         ┆ 0.542915  ┆ 0         ┆ 0        │\n",
       "│ Girl      ┆ 88663774  ┆           ┆           ┆   ┆           ┆           ┆           ┆          │\n",
       "│ Sketch    ┆           ┆           ┆           ┆   ┆           ┆           ┆           ┆          │\n",
       "│ Vol.01    ┆           ┆           ┆           ┆   ┆           ┆           ┆           ┆          │\n",
       "│ Monster   ┆ 765611979 ┆ 3463      ┆ 347       ┆ … ┆ 0         ┆ 0.599498  ┆ 0         ┆ 0        │\n",
       "│ Girl      ┆ 88663774  ┆           ┆           ┆   ┆           ┆           ┆           ┆          │\n",
       "│ Sketch    ┆           ┆           ┆           ┆   ┆           ┆           ┆           ┆          │\n",
       "│ Vol.02A   ┆           ┆           ┆           ┆   ┆           ┆           ┆           ┆          │\n",
       "│ Monster   ┆ 765611979 ┆ 3463      ┆ 347       ┆ … ┆ 0         ┆ 0.562894  ┆ 0         ┆ 0        │\n",
       "│ Girl      ┆ 88663774  ┆           ┆           ┆   ┆           ┆           ┆           ┆          │\n",
       "│ Sketch    ┆           ┆           ┆           ┆   ┆           ┆           ┆           ┆          │\n",
       "│ Vol.02B   ┆           ┆           ┆           ┆   ┆           ┆           ┆           ┆          │\n",
       "└───────────┴───────────┴───────────┴───────────┴───┴───────────┴───────────┴───────────┴──────────┘"
      ]
     },
     "execution_count": 17,
     "metadata": {},
     "output_type": "execute_result"
    }
   ],
   "source": [
    "cleaned_df"
   ]
  },
  {
   "cell_type": "code",
   "execution_count": 18,
   "metadata": {},
   "outputs": [],
   "source": [
    "cleaned_df.write_parquet('english_only.parquet')"
   ]
  }
 ],
 "metadata": {
  "kernelspec": {
   "display_name": "Python 3",
   "language": "python",
   "name": "python3"
  },
  "language_info": {
   "codemirror_mode": {
    "name": "ipython",
    "version": 3
   },
   "file_extension": ".py",
   "mimetype": "text/x-python",
   "name": "python",
   "nbconvert_exporter": "python",
   "pygments_lexer": "ipython3",
   "version": "3.10.4"
  }
 },
 "nbformat": 4,
 "nbformat_minor": 2
}
