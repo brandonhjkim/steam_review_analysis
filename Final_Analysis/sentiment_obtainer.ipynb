{
 "cells": [
  {
   "cell_type": "code",
   "execution_count": null,
   "metadata": {},
   "outputs": [],
   "source": [
    "from transformers import pipeline\n",
    "import polars as pl"
   ]
  },
  {
   "cell_type": "code",
   "execution_count": 2,
   "metadata": {},
   "outputs": [],
   "source": [
    "df = pl.read_parquet('english_only.parquet') "
   ]
  },
  {
   "cell_type": "code",
   "execution_count": 3,
   "metadata": {},
   "outputs": [
    {
     "data": {
      "text/html": [
       "<div><style>\n",
       ".dataframe > thead > tr,\n",
       ".dataframe > tbody > tr {\n",
       "  text-align: right;\n",
       "  white-space: pre-wrap;\n",
       "}\n",
       "</style>\n",
       "<small>shape: (5, 15)</small><table border=\"1\" class=\"dataframe\"><thead><tr><th>game</th><th>author_steamid</th><th>author_num_games_owned</th><th>author_num_reviews</th><th>author_playtime_forever</th><th>author_playtime_last_two_weeks</th><th>author_playtime_at_review</th><th>review</th><th>timestamp_created</th><th>voted_up</th><th>votes_up</th><th>votes_funny</th><th>weighted_vote_score</th><th>comment_count</th><th>steam_purchase</th></tr><tr><td>str</td><td>i64</td><td>i64</td><td>i64</td><td>i64</td><td>i64</td><td>i64</td><td>str</td><td>datetime[ms]</td><td>i64</td><td>i64</td><td>i64</td><td>f64</td><td>i64</td><td>i64</td></tr></thead><tbody><tr><td>&quot;Counter-Strike&quot;</td><td>76561198363716821</td><td>0</td><td>2</td><td>197</td><td>41</td><td>197</td><td>&quot;GOAT Game !!&quot;</td><td>2023-10-26 14:10:19</td><td>1</td><td>0</td><td>0</td><td>0.0</td><td>0</td><td>1</td></tr><tr><td>&quot;Counter-Strike&quot;</td><td>76561198134752176</td><td>69</td><td>1</td><td>12107</td><td>0</td><td>12107</td><td>&quot;First crush. Always in my hear…</td><td>2023-10-26 07:41:36</td><td>1</td><td>0</td><td>0</td><td>0.0</td><td>0</td><td>0</td></tr><tr><td>&quot;Counter-Strike&quot;</td><td>76561197985437504</td><td>0</td><td>5</td><td>42519</td><td>3</td><td>42515</td><td>&quot;best version of cs ever, histo…</td><td>2023-10-26 07:32:49</td><td>1</td><td>0</td><td>0</td><td>0.0</td><td>0</td><td>0</td></tr><tr><td>&quot;Counter-Strike&quot;</td><td>76561199015747395</td><td>71</td><td>34</td><td>30</td><td>0</td><td>30</td><td>&quot;a game everyone needs, but not…</td><td>2023-10-25 18:11:55</td><td>1</td><td>0</td><td>0</td><td>0.0</td><td>0</td><td>1</td></tr><tr><td>&quot;Counter-Strike&quot;</td><td>76561199479067349</td><td>5</td><td>6</td><td>209</td><td>200</td><td>209</td><td>&quot;old but gold&quot;</td><td>2023-10-25 17:03:14</td><td>1</td><td>1</td><td>0</td><td>0.52381</td><td>0</td><td>1</td></tr></tbody></table></div>"
      ],
      "text/plain": [
       "shape: (5, 15)\n",
       "┌───────────┬───────────┬───────────┬───────────┬───┬───────────┬───────────┬───────────┬──────────┐\n",
       "│ game      ┆ author_st ┆ author_nu ┆ author_nu ┆ … ┆ votes_fun ┆ weighted_ ┆ comment_c ┆ steam_pu │\n",
       "│ ---       ┆ eamid     ┆ m_games_o ┆ m_reviews ┆   ┆ ny        ┆ vote_scor ┆ ount      ┆ rchase   │\n",
       "│ str       ┆ ---       ┆ wned      ┆ ---       ┆   ┆ ---       ┆ e         ┆ ---       ┆ ---      │\n",
       "│           ┆ i64       ┆ ---       ┆ i64       ┆   ┆ i64       ┆ ---       ┆ i64       ┆ i64      │\n",
       "│           ┆           ┆ i64       ┆           ┆   ┆           ┆ f64       ┆           ┆          │\n",
       "╞═══════════╪═══════════╪═══════════╪═══════════╪═══╪═══════════╪═══════════╪═══════════╪══════════╡\n",
       "│ Counter-S ┆ 765611983 ┆ 0         ┆ 2         ┆ … ┆ 0         ┆ 0.0       ┆ 0         ┆ 1        │\n",
       "│ trike     ┆ 63716821  ┆           ┆           ┆   ┆           ┆           ┆           ┆          │\n",
       "│ Counter-S ┆ 765611981 ┆ 69        ┆ 1         ┆ … ┆ 0         ┆ 0.0       ┆ 0         ┆ 0        │\n",
       "│ trike     ┆ 34752176  ┆           ┆           ┆   ┆           ┆           ┆           ┆          │\n",
       "│ Counter-S ┆ 765611979 ┆ 0         ┆ 5         ┆ … ┆ 0         ┆ 0.0       ┆ 0         ┆ 0        │\n",
       "│ trike     ┆ 85437504  ┆           ┆           ┆   ┆           ┆           ┆           ┆          │\n",
       "│ Counter-S ┆ 765611990 ┆ 71        ┆ 34        ┆ … ┆ 0         ┆ 0.0       ┆ 0         ┆ 1        │\n",
       "│ trike     ┆ 15747395  ┆           ┆           ┆   ┆           ┆           ┆           ┆          │\n",
       "│ Counter-S ┆ 765611994 ┆ 5         ┆ 6         ┆ … ┆ 0         ┆ 0.52381   ┆ 0         ┆ 1        │\n",
       "│ trike     ┆ 79067349  ┆           ┆           ┆   ┆           ┆           ┆           ┆          │\n",
       "└───────────┴───────────┴───────────┴───────────┴───┴───────────┴───────────┴───────────┴──────────┘"
      ]
     },
     "execution_count": 3,
     "metadata": {},
     "output_type": "execute_result"
    }
   ],
   "source": [
    "df.head()"
   ]
  },
  {
   "cell_type": "code",
   "execution_count": null,
   "metadata": {},
   "outputs": [
    {
     "name": "stderr",
     "output_type": "stream",
     "text": [
      "C:\\Users\\Brandon Kim\\AppData\\Local\\Temp\\ipykernel_13656\\495361320.py:1: DeprecationWarning: `pl.count()` is deprecated. Please use `pl.len()` instead.\n",
      "  top10 = df.group_by('game', maintain_order=True).agg(pl.count().alias('count')).sort('count', descending=True).head(10).select('game').to_numpy().flatten().tolist()\n"
     ]
    }
   ],
   "source": [
    "# obtaining top 10 games \n",
    "top10 = df.group_by('game', maintain_order=True).agg(pl.count().alias('count')).sort('count', descending=True).head(10).select('game').to_numpy().flatten().tolist()"
   ]
  },
  {
   "cell_type": "code",
   "execution_count": 11,
   "metadata": {},
   "outputs": [
    {
     "data": {
      "text/plain": [
       "['Counter-Strike 2',\n",
       " 'Terraria',\n",
       " 'Team Fortress 2',\n",
       " \"Tom Clancy's Rainbow Six Siege\",\n",
       " 'Grand Theft Auto V',\n",
       " 'Rust',\n",
       " \"Garry's Mod\",\n",
       " 'Among Us',\n",
       " 'PUBG: BATTLEGROUNDS',\n",
       " 'ELDEN RING']"
      ]
     },
     "execution_count": 11,
     "metadata": {},
     "output_type": "execute_result"
    }
   ],
   "source": [
    "top10"
   ]
  },
  {
   "cell_type": "code",
   "execution_count": 12,
   "metadata": {},
   "outputs": [],
   "source": [
    "# negative reviews only of top 10 games\n",
    "df = df.filter(pl.col('voted_up') == 0).filter(pl.col('game').is_in(top10))"
   ]
  },
  {
   "cell_type": "code",
   "execution_count": 13,
   "metadata": {},
   "outputs": [
    {
     "data": {
      "text/html": [
       "<div><style>\n",
       ".dataframe > thead > tr,\n",
       ".dataframe > tbody > tr {\n",
       "  text-align: right;\n",
       "  white-space: pre-wrap;\n",
       "}\n",
       "</style>\n",
       "<small>shape: (715_769, 15)</small><table border=\"1\" class=\"dataframe\"><thead><tr><th>game</th><th>author_steamid</th><th>author_num_games_owned</th><th>author_num_reviews</th><th>author_playtime_forever</th><th>author_playtime_last_two_weeks</th><th>author_playtime_at_review</th><th>review</th><th>timestamp_created</th><th>voted_up</th><th>votes_up</th><th>votes_funny</th><th>weighted_vote_score</th><th>comment_count</th><th>steam_purchase</th></tr><tr><td>str</td><td>i64</td><td>i64</td><td>i64</td><td>i64</td><td>i64</td><td>i64</td><td>str</td><td>datetime[ms]</td><td>i64</td><td>i64</td><td>i64</td><td>f64</td><td>i64</td><td>i64</td></tr></thead><tbody><tr><td>&quot;Terraria&quot;</td><td>76561199105280506</td><td>0</td><td>3</td><td>1432</td><td>42</td><td>1390</td><td>&quot;only poopy men play this&quot;</td><td>2023-11-01 12:25:45</td><td>0</td><td>0</td><td>0</td><td>0.454545</td><td>0</td><td>1</td></tr><tr><td>&quot;Terraria&quot;</td><td>76561198023056574</td><td>166</td><td>9</td><td>27678</td><td>2508</td><td>27678</td><td>&quot;boulders&quot;</td><td>2023-10-31 23:37:18</td><td>0</td><td>0</td><td>0</td><td>0.456432</td><td>0</td><td>1</td></tr><tr><td>&quot;Terraria&quot;</td><td>76561198801133938</td><td>52</td><td>9</td><td>15015</td><td>0</td><td>15015</td><td>&quot;jungle slimes.&quot;</td><td>2023-10-31 21:48:54</td><td>0</td><td>2</td><td>0</td><td>0.545455</td><td>0</td><td>1</td></tr><tr><td>&quot;Terraria&quot;</td><td>76561199174242068</td><td>42</td><td>2</td><td>1937</td><td>6</td><td>1937</td><td>&quot;I hate terraria because it too…</td><td>2023-10-31 16:33:31</td><td>0</td><td>0</td><td>0</td><td>0.0</td><td>0</td><td>1</td></tr><tr><td>&quot;Terraria&quot;</td><td>76561199498962728</td><td>1</td><td>1</td><td>756</td><td>756</td><td>462</td><td>&quot;If your normie you don&#x27;t have …</td><td>2023-10-31 12:12:19</td><td>0</td><td>0</td><td>0</td><td>0.47619</td><td>0</td><td>0</td></tr><tr><td>&hellip;</td><td>&hellip;</td><td>&hellip;</td><td>&hellip;</td><td>&hellip;</td><td>&hellip;</td><td>&hellip;</td><td>&hellip;</td><td>&hellip;</td><td>&hellip;</td><td>&hellip;</td><td>&hellip;</td><td>&hellip;</td><td>&hellip;</td><td>&hellip;</td></tr><tr><td>&quot;Among Us&quot;</td><td>76561198033073063</td><td>0</td><td>4</td><td>46</td><td>0</td><td>46</td><td>&quot;Do not bother with this game. …</td><td>2018-11-17 05:41:38</td><td>0</td><td>41</td><td>51</td><td>0.37347</td><td>0</td><td>1</td></tr><tr><td>&quot;Among Us&quot;</td><td>76561198802549566</td><td>0</td><td>2</td><td>1817</td><td>0</td><td>1817</td><td>&quot;i swear i bought this for $10 …</td><td>2023-11-01 23:05:37</td><td>0</td><td>0</td><td>1</td><td>0.0</td><td>0</td><td>1</td></tr><tr><td>&quot;Among Us&quot;</td><td>76561198891094465</td><td>38</td><td>1</td><td>2264</td><td>0</td><td>2264</td><td>&quot;Among us is insane okay, it&#x27;s …</td><td>2023-11-01 21:44:28</td><td>0</td><td>0</td><td>0</td><td>0.0</td><td>0</td><td>1</td></tr><tr><td>&quot;Among Us&quot;</td><td>76561199102962995</td><td>57</td><td>10</td><td>1258</td><td>10</td><td>1258</td><td>&quot;i haet this game i lost my pet…</td><td>2023-11-01 17:56:27</td><td>0</td><td>0</td><td>0</td><td>0.0</td><td>0</td><td>1</td></tr><tr><td>&quot;Among Us&quot;</td><td>76561198171248991</td><td>0</td><td>1</td><td>70</td><td>0</td><td>70</td><td>&quot;Genuinely too retarded to play…</td><td>2023-11-01 15:24:08</td><td>0</td><td>0</td><td>0</td><td>0.0</td><td>0</td><td>1</td></tr></tbody></table></div>"
      ],
      "text/plain": [
       "shape: (715_769, 15)\n",
       "┌──────────┬───────────┬───────────┬───────────┬───┬───────────┬───────────┬───────────┬───────────┐\n",
       "│ game     ┆ author_st ┆ author_nu ┆ author_nu ┆ … ┆ votes_fun ┆ weighted_ ┆ comment_c ┆ steam_pur │\n",
       "│ ---      ┆ eamid     ┆ m_games_o ┆ m_reviews ┆   ┆ ny        ┆ vote_scor ┆ ount      ┆ chase     │\n",
       "│ str      ┆ ---       ┆ wned      ┆ ---       ┆   ┆ ---       ┆ e         ┆ ---       ┆ ---       │\n",
       "│          ┆ i64       ┆ ---       ┆ i64       ┆   ┆ i64       ┆ ---       ┆ i64       ┆ i64       │\n",
       "│          ┆           ┆ i64       ┆           ┆   ┆           ┆ f64       ┆           ┆           │\n",
       "╞══════════╪═══════════╪═══════════╪═══════════╪═══╪═══════════╪═══════════╪═══════════╪═══════════╡\n",
       "│ Terraria ┆ 765611991 ┆ 0         ┆ 3         ┆ … ┆ 0         ┆ 0.454545  ┆ 0         ┆ 1         │\n",
       "│          ┆ 05280506  ┆           ┆           ┆   ┆           ┆           ┆           ┆           │\n",
       "│ Terraria ┆ 765611980 ┆ 166       ┆ 9         ┆ … ┆ 0         ┆ 0.456432  ┆ 0         ┆ 1         │\n",
       "│          ┆ 23056574  ┆           ┆           ┆   ┆           ┆           ┆           ┆           │\n",
       "│ Terraria ┆ 765611988 ┆ 52        ┆ 9         ┆ … ┆ 0         ┆ 0.545455  ┆ 0         ┆ 1         │\n",
       "│          ┆ 01133938  ┆           ┆           ┆   ┆           ┆           ┆           ┆           │\n",
       "│ Terraria ┆ 765611991 ┆ 42        ┆ 2         ┆ … ┆ 0         ┆ 0.0       ┆ 0         ┆ 1         │\n",
       "│          ┆ 74242068  ┆           ┆           ┆   ┆           ┆           ┆           ┆           │\n",
       "│ Terraria ┆ 765611994 ┆ 1         ┆ 1         ┆ … ┆ 0         ┆ 0.47619   ┆ 0         ┆ 0         │\n",
       "│          ┆ 98962728  ┆           ┆           ┆   ┆           ┆           ┆           ┆           │\n",
       "│ …        ┆ …         ┆ …         ┆ …         ┆ … ┆ …         ┆ …         ┆ …         ┆ …         │\n",
       "│ Among Us ┆ 765611980 ┆ 0         ┆ 4         ┆ … ┆ 51        ┆ 0.37347   ┆ 0         ┆ 1         │\n",
       "│          ┆ 33073063  ┆           ┆           ┆   ┆           ┆           ┆           ┆           │\n",
       "│ Among Us ┆ 765611988 ┆ 0         ┆ 2         ┆ … ┆ 1         ┆ 0.0       ┆ 0         ┆ 1         │\n",
       "│          ┆ 02549566  ┆           ┆           ┆   ┆           ┆           ┆           ┆           │\n",
       "│ Among Us ┆ 765611988 ┆ 38        ┆ 1         ┆ … ┆ 0         ┆ 0.0       ┆ 0         ┆ 1         │\n",
       "│          ┆ 91094465  ┆           ┆           ┆   ┆           ┆           ┆           ┆           │\n",
       "│ Among Us ┆ 765611991 ┆ 57        ┆ 10        ┆ … ┆ 0         ┆ 0.0       ┆ 0         ┆ 1         │\n",
       "│          ┆ 02962995  ┆           ┆           ┆   ┆           ┆           ┆           ┆           │\n",
       "│ Among Us ┆ 765611981 ┆ 0         ┆ 1         ┆ … ┆ 0         ┆ 0.0       ┆ 0         ┆ 1         │\n",
       "│          ┆ 71248991  ┆           ┆           ┆   ┆           ┆           ┆           ┆           │\n",
       "└──────────┴───────────┴───────────┴───────────┴───┴───────────┴───────────┴───────────┴───────────┘"
      ]
     },
     "execution_count": 13,
     "metadata": {},
     "output_type": "execute_result"
    }
   ],
   "source": [
    "df"
   ]
  },
  {
   "cell_type": "code",
   "execution_count": 14,
   "metadata": {},
   "outputs": [
    {
     "name": "stderr",
     "output_type": "stream",
     "text": [
      "Device set to use cuda:0\n",
      "c:\\Users\\Brandon Kim\\AppData\\Local\\Programs\\Python\\Python310\\lib\\site-packages\\transformers\\pipelines\\text_classification.py:106: UserWarning: `return_all_scores` is now deprecated,  if want a similar functionality use `top_k=None` instead of `return_all_scores=True` or `top_k=1` instead of `return_all_scores=False`.\n",
      "  warnings.warn(\n"
     ]
    }
   ],
   "source": [
    "# sentiment analysis pipeline  \n",
    "emotion_classifier = pipeline(\"text-classification\", model=\"bhadresh-savani/distilbert-base-uncased-emotion\", return_all_scores=True)"
   ]
  },
  {
   "cell_type": "code",
   "execution_count": 15,
   "metadata": {},
   "outputs": [
    {
     "name": "stderr",
     "output_type": "stream",
     "text": [
      "sys:1: MapWithoutReturnDtypeWarning: Calling `map_elements` without specifying `return_dtype` can lead to unpredictable results. Specify `return_dtype` to silence this warning.\n",
      "sys:1: MapWithoutReturnDtypeWarning: Calling `map_elements` without specifying `return_dtype` can lead to unpredictable results. Specify `return_dtype` to silence this warning.\n",
      "sys:1: MapWithoutReturnDtypeWarning: Calling `map_elements` without specifying `return_dtype` can lead to unpredictable results. Specify `return_dtype` to silence this warning.\n",
      "sys:1: MapWithoutReturnDtypeWarning: Calling `map_elements` without specifying `return_dtype` can lead to unpredictable results. Specify `return_dtype` to silence this warning.\n",
      "sys:1: MapWithoutReturnDtypeWarning: Calling `map_elements` without specifying `return_dtype` can lead to unpredictable results. Specify `return_dtype` to silence this warning.\n",
      "sys:1: MapWithoutReturnDtypeWarning: Calling `map_elements` without specifying `return_dtype` can lead to unpredictable results. Specify `return_dtype` to silence this warning.\n",
      "sys:1: MapWithoutReturnDtypeWarning: Calling `map_elements` without specifying `return_dtype` can lead to unpredictable results. Specify `return_dtype` to silence this warning.\n",
      "sys:1: MapWithoutReturnDtypeWarning: Calling `map_elements` without specifying `return_dtype` can lead to unpredictable results. Specify `return_dtype` to silence this warning.\n",
      "sys:1: MapWithoutReturnDtypeWarning: Calling `map_elements` without specifying `return_dtype` can lead to unpredictable results. Specify `return_dtype` to silence this warning.\n",
      "sys:1: MapWithoutReturnDtypeWarning: Calling `map_elements` without specifying `return_dtype` can lead to unpredictable results. Specify `return_dtype` to silence this warning.\n",
      "sys:1: MapWithoutReturnDtypeWarning: Calling `map_elements` without specifying `return_dtype` can lead to unpredictable results. Specify `return_dtype` to silence this warning.\n",
      "sys:1: MapWithoutReturnDtypeWarning: Calling `map_elements` without specifying `return_dtype` can lead to unpredictable results. Specify `return_dtype` to silence this warning.\n",
      "You seem to be using the pipelines sequentially on GPU. In order to maximize efficiency please use a dataset\n",
      "sys:1: MapWithoutReturnDtypeWarning: Calling `map_elements` without specifying `return_dtype` can lead to unpredictable results. Specify `return_dtype` to silence this warning.\n",
      "sys:1: MapWithoutReturnDtypeWarning: Calling `map_elements` without specifying `return_dtype` can lead to unpredictable results. Specify `return_dtype` to silence this warning.\n",
      "sys:1: MapWithoutReturnDtypeWarning: Calling `map_elements` without specifying `return_dtype` can lead to unpredictable results. Specify `return_dtype` to silence this warning.\n",
      "sys:1: MapWithoutReturnDtypeWarning: Calling `map_elements` without specifying `return_dtype` can lead to unpredictable results. Specify `return_dtype` to silence this warning.\n",
      "You seem to be using the pipelines sequentially on GPU. In order to maximize efficiency please use a dataset\n",
      "You seem to be using the pipelines sequentially on GPU. In order to maximize efficiency please use a dataset\n",
      "You seem to be using the pipelines sequentially on GPU. In order to maximize efficiency please use a dataset\n",
      "You seem to be using the pipelines sequentially on GPU. In order to maximize efficiency please use a dataset\n",
      "You seem to be using the pipelines sequentially on GPU. In order to maximize efficiency please use a dataset\n",
      "Token indices sequence length is longer than the specified maximum sequence length for this model (1689 > 512). Running this sequence through the model will result in indexing errors\n",
      "sys:1: MapWithoutReturnDtypeWarning: Calling `map_elements` without specifying `return_dtype` can lead to unpredictable results. Specify `return_dtype` to silence this warning.\n",
      "sys:1: MapWithoutReturnDtypeWarning: Calling `map_elements` without specifying `return_dtype` can lead to unpredictable results. Specify `return_dtype` to silence this warning.\n",
      "sys:1: MapWithoutReturnDtypeWarning: Calling `map_elements` without specifying `return_dtype` can lead to unpredictable results. Specify `return_dtype` to silence this warning.\n",
      "sys:1: MapWithoutReturnDtypeWarning: Calling `map_elements` without specifying `return_dtype` can lead to unpredictable results. Specify `return_dtype` to silence this warning.\n",
      "sys:1: MapWithoutReturnDtypeWarning: Calling `map_elements` without specifying `return_dtype` can lead to unpredictable results. Specify `return_dtype` to silence this warning.\n",
      "sys:1: MapWithoutReturnDtypeWarning: Calling `map_elements` without specifying `return_dtype` can lead to unpredictable results. Specify `return_dtype` to silence this warning.\n",
      "sys:1: MapWithoutReturnDtypeWarning: Calling `map_elements` without specifying `return_dtype` can lead to unpredictable results. Specify `return_dtype` to silence this warning.\n",
      "sys:1: MapWithoutReturnDtypeWarning: Calling `map_elements` without specifying `return_dtype` can lead to unpredictable results. Specify `return_dtype` to silence this warning.\n",
      "sys:1: MapWithoutReturnDtypeWarning: Calling `map_elements` without specifying `return_dtype` can lead to unpredictable results. Specify `return_dtype` to silence this warning.\n",
      "sys:1: MapWithoutReturnDtypeWarning: Calling `map_elements` without specifying `return_dtype` can lead to unpredictable results. Specify `return_dtype` to silence this warning.\n",
      "sys:1: MapWithoutReturnDtypeWarning: Calling `map_elements` without specifying `return_dtype` can lead to unpredictable results. Specify `return_dtype` to silence this warning.\n",
      "sys:1: MapWithoutReturnDtypeWarning: Calling `map_elements` without specifying `return_dtype` can lead to unpredictable results. Specify `return_dtype` to silence this warning.\n",
      "sys:1: MapWithoutReturnDtypeWarning: Calling `map_elements` without specifying `return_dtype` can lead to unpredictable results. Specify `return_dtype` to silence this warning.\n",
      "sys:1: MapWithoutReturnDtypeWarning: Calling `map_elements` without specifying `return_dtype` can lead to unpredictable results. Specify `return_dtype` to silence this warning.\n",
      "sys:1: MapWithoutReturnDtypeWarning: Calling `map_elements` without specifying `return_dtype` can lead to unpredictable results. Specify `return_dtype` to silence this warning.\n",
      "sys:1: MapWithoutReturnDtypeWarning: Calling `map_elements` without specifying `return_dtype` can lead to unpredictable results. Specify `return_dtype` to silence this warning.\n",
      "sys:1: MapWithoutReturnDtypeWarning: Calling `map_elements` without specifying `return_dtype` can lead to unpredictable results. Specify `return_dtype` to silence this warning.\n",
      "sys:1: MapWithoutReturnDtypeWarning: Calling `map_elements` without specifying `return_dtype` can lead to unpredictable results. Specify `return_dtype` to silence this warning.\n",
      "sys:1: MapWithoutReturnDtypeWarning: Calling `map_elements` without specifying `return_dtype` can lead to unpredictable results. Specify `return_dtype` to silence this warning.\n",
      "sys:1: MapWithoutReturnDtypeWarning: Calling `map_elements` without specifying `return_dtype` can lead to unpredictable results. Specify `return_dtype` to silence this warning.\n",
      "sys:1: MapWithoutReturnDtypeWarning: Calling `map_elements` without specifying `return_dtype` can lead to unpredictable results. Specify `return_dtype` to silence this warning.\n"
     ]
    }
   ],
   "source": [
    "# sentiment analysis run \n",
    "def get_emotion_scores(text):\n",
    "    results = emotion_classifier(text)\n",
    "    return {entry['label']: entry['score'] for entry in results[0]}\n",
    "\n",
    "df = df.with_columns(pl.struct(pl.col('review').map_elements(get_emotion_scores).alias('scores'))).unnest(\"scores\").unnest(\"scores\")"
   ]
  },
  {
   "cell_type": "code",
   "execution_count": null,
   "metadata": {},
   "outputs": [],
   "source": [
    "# saving for later uses (i know i used write_csv instead of write_parquet i fucked up)\n",
    "df.write_csv('top10games_sentiments.parquet')"
   ]
  }
 ],
 "metadata": {
  "kernelspec": {
   "display_name": "Python 3",
   "language": "python",
   "name": "python3"
  },
  "language_info": {
   "codemirror_mode": {
    "name": "ipython",
    "version": 3
   },
   "file_extension": ".py",
   "mimetype": "text/x-python",
   "name": "python",
   "nbconvert_exporter": "python",
   "pygments_lexer": "ipython3",
   "version": "3.10.4"
  }
 },
 "nbformat": 4,
 "nbformat_minor": 2
}
